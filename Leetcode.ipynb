{
 "cells": [
  {
   "cell_type": "markdown",
   "metadata": {},
   "source": [
    "## Two Sum\n",
    "\n",
    "Given an array of integers, return indices of the two numbers such that they add up to a specific target.\n",
    "\n",
    "You may assume that each input would have exactly one solution, and you may not use the same element twice.\n",
    "\n",
    "- Example:\n",
    "\n",
    "> Given nums = [2, 7, 11, 15], target = 9. <br>\n",
    "Because nums[0] + nums[1] = 2 + 7 = 9, return [0, 1]."
   ]
  },
  {
   "cell_type": "code",
   "execution_count": 1,
   "metadata": {},
   "outputs": [],
   "source": [
    "def two_sum(num_list,target):\n",
    "    visited = {}\n",
    "    for i,num in enumerate(num_list):\n",
    "        remain = target-num\n",
    "        if remain not in visited:\n",
    "            visited[num] = i\n",
    "        else:\n",
    "            print(visited)\n",
    "            return[visited[remain],i] "
   ]
  },
  {
   "cell_type": "code",
   "execution_count": 2,
   "metadata": {},
   "outputs": [
    {
     "name": "stdout",
     "output_type": "stream",
     "text": [
      "{11: 0, 2: 1, 13: 2}\n"
     ]
    },
    {
     "data": {
      "text/plain": [
       "[1, 3]"
      ]
     },
     "execution_count": 2,
     "metadata": {},
     "output_type": "execute_result"
    }
   ],
   "source": [
    "list_ = [11, 2, 13, 7]\n",
    "n = 9\n",
    "two_sum(list_,n)"
   ]
  },
  {
   "cell_type": "code",
   "execution_count": 3,
   "metadata": {},
   "outputs": [],
   "source": [
    "# insights: enumerate function\n",
    "# visit every number once\n",
    "# since there must exist a pair of number that map to the target"
   ]
  },
  {
   "cell_type": "markdown",
   "metadata": {},
   "source": [
    "## Reverse String\n",
    "\n",
    "Write a function that reverses a string. The input string is given as an array of characters char[].\n",
    "Do not allocate extra space for another array, you must do this by modifying the input array in-place with O(1) extra memory.\n",
    "\n",
    "> Input: [\"h\",\"e\",\"l\",\"l\",\"o\"]\n",
    "Output: [\"o\",\"l\",\"l\",\"e\",\"h\"]"
   ]
  },
  {
   "cell_type": "markdown",
   "metadata": {},
   "source": [
    "#### Python save lives"
   ]
  },
  {
   "cell_type": "code",
   "execution_count": 4,
   "metadata": {},
   "outputs": [],
   "source": [
    "def reverseString(s):\n",
    "    return s.reverse() # directly reverse elements in s (directly change)"
   ]
  },
  {
   "cell_type": "code",
   "execution_count": 5,
   "metadata": {},
   "outputs": [
    {
     "data": {
      "text/plain": [
       "['o', 'l', 'l', 'e', 'h']"
      ]
     },
     "execution_count": 5,
     "metadata": {},
     "output_type": "execute_result"
    }
   ],
   "source": [
    "string = [\"h\",\"e\",\"l\",\"l\",\"o\"]\n",
    "reverseString(string)\n",
    "string"
   ]
  },
  {
   "cell_type": "markdown",
   "metadata": {},
   "source": [
    "#### Two Pointers iteration\n",
    "In this approach, two pointers are used to process two array elements at the same time. Usual implementation is to set one pointer in the beginning and one at the end and then to move them until they both meet.\n",
    "\n",
    "- Time complexity : o(N) since swap N/2 elements.\n",
    "- Space complexity: o(1), it's a constant space solution (no extra)"
   ]
  },
  {
   "cell_type": "code",
   "execution_count": 6,
   "metadata": {},
   "outputs": [],
   "source": [
    "def reverseString(s):\n",
    "    i,j = 0,len(s)-1\n",
    "    while i <= j:\n",
    "        s[i],s[j] = s[j],s[i]\n",
    "        i += 1\n",
    "        j -= 1\n",
    "    return s"
   ]
  },
  {
   "cell_type": "code",
   "execution_count": 7,
   "metadata": {},
   "outputs": [
    {
     "data": {
      "text/plain": [
       "['o', 'l', 'l', 'e', 'h']"
      ]
     },
     "execution_count": 7,
     "metadata": {},
     "output_type": "execute_result"
    }
   ],
   "source": [
    "string = [\"h\",\"e\",\"l\",\"l\",\"o\"]\n",
    "reverseString(string)"
   ]
  },
  {
   "cell_type": "markdown",
   "metadata": {},
   "source": [
    "## FizzBuzz\n",
    "\n",
    "Write a program that outputs the string representation of numbers from 1 to n.\n",
    "\n",
    "But for multiples of three it should output “Fizz” instead of the number and for the multiples of five output “Buzz”. For numbers which are multiples of both three and five output “FizzBuzz”.\n",
    "\n",
    "> n = 15, Return:\n",
    "[\n",
    "    \"1\",\n",
    "    \"2\",\n",
    "    \"Fizz\",\n",
    "    \"4\",\n",
    "    \"Buzz\",\n",
    "    \"Fizz\",\n",
    "    \"7\",\n",
    "    \"8\",\n",
    "    \"Fizz\",\n",
    "    \"Buzz\",\n",
    "    \"11\",\n",
    "    \"Fizz\",\n",
    "    \"13\",\n",
    "    \"14\",\n",
    "    \"FizzBuzz\"\n",
    "]"
   ]
  },
  {
   "cell_type": "markdown",
   "metadata": {},
   "source": [
    "#### Approach1: Native Approach\n",
    "- Time complexity : o(N)\n",
    "- Space complexity: o(1)"
   ]
  },
  {
   "cell_type": "code",
   "execution_count": 8,
   "metadata": {},
   "outputs": [],
   "source": [
    "def fizzBuzz(n):\n",
    "        list_ = []\n",
    "        for i in range(1,n+1):\n",
    "            if (i%3==0) and (i%5==0):\n",
    "                list_.append(\"FizzBuzz\")\n",
    "            elif i%5==0:\n",
    "                list_.append(\"Buzz\")\n",
    "            elif i%3==0:\n",
    "                list_.append(\"Fizz\")\n",
    "            else:\n",
    "                list_.append(str(i))\n",
    "        return list_"
   ]
  },
  {
   "cell_type": "markdown",
   "metadata": {},
   "source": [
    "#### Approach2: String Concatenation\n",
    "If there is more prominent asymptotic complexity --> Approach1 will be too complex (too many conditions to check)\n",
    "- Time complexity : o(N)\n",
    "- Space complexity: o(1)"
   ]
  },
  {
   "cell_type": "code",
   "execution_count": 9,
   "metadata": {},
   "outputs": [],
   "source": [
    "def fizzBuzz(n):\n",
    "        ans = []\n",
    "        for num in range(1,n+1):\n",
    "            divisible_by_3 = (num % 3 == 0)\n",
    "            divisible_by_5 = (num % 5 == 0)\n",
    "            num_ans_str = \"\"\n",
    "            if divisible_by_3:\n",
    "                # Divides by 3\n",
    "                num_ans_str += \"Fizz\"\n",
    "            if divisible_by_5:\n",
    "                # Divides by 5\n",
    "                num_ans_str += \"Buzz\"\n",
    "            if not num_ans_str:\n",
    "                # Not divisible by 3 or 5\n",
    "                num_ans_str = str(num)\n",
    "            # Append the current answer str to the ans list\n",
    "            ans.append(num_ans_str)  \n",
    "        return ans"
   ]
  },
  {
   "cell_type": "markdown",
   "metadata": {},
   "source": [
    "#### Approach3: Hash Table (Quicker)\n",
    "less mappings!\n",
    "- Time complexity : o(N)\n",
    "- Space complexity: o(1)"
   ]
  },
  {
   "cell_type": "code",
   "execution_count": 10,
   "metadata": {},
   "outputs": [],
   "source": [
    "def fizzBuzzJazz(n):\n",
    "    dict_ = {3:'Fizz',5:'Buzz', 7:'Jazz'}\n",
    "    list_ = []\n",
    "    for num in range(1,n+1):\n",
    "        num_str = ''\n",
    "        for i in dict_:\n",
    "            if num%i == 0:\n",
    "                num_str += dict_[i]\n",
    "        if not num_str:\n",
    "            num_str += str(num)\n",
    "        list_.append(num_str)\n",
    "    return list_"
   ]
  },
  {
   "cell_type": "code",
   "execution_count": 11,
   "metadata": {},
   "outputs": [
    {
     "data": {
      "text/plain": [
       "['1',\n",
       " '2',\n",
       " 'Fizz',\n",
       " '4',\n",
       " 'Buzz',\n",
       " 'Fizz',\n",
       " 'Jazz',\n",
       " '8',\n",
       " 'Fizz',\n",
       " 'Buzz',\n",
       " '11',\n",
       " 'Fizz',\n",
       " '13',\n",
       " 'Jazz',\n",
       " 'FizzBuzz']"
      ]
     },
     "execution_count": 11,
     "metadata": {},
     "output_type": "execute_result"
    }
   ],
   "source": [
    "fizzBuzzJazz(15)"
   ]
  },
  {
   "cell_type": "markdown",
   "metadata": {},
   "source": [
    "## Sqrt(x)\n",
    "\n",
    "Implement int sqrt(int x): Compute and return the square root of x, where x is guaranteed to be a non-negative integer. Since the return type is an integer, the decimal digits are truncated and only the integer part of the result is returned. mySqrt(8)=2 & mySqrt(0)=0\n",
    "> notice: \n",
    "- two pointers\n",
    "- mid = lower bound\n",
    "- mid-1/mid+1"
   ]
  },
  {
   "cell_type": "code",
   "execution_count": 12,
   "metadata": {},
   "outputs": [],
   "source": [
    "def mySqrt(x):\n",
    "    i = 0\n",
    "    j = x\n",
    "    while i <= j:\n",
    "        mid = (i+j)//2 # ensure it's an integer\n",
    "        if mid**2<=x<(mid+1)**2: # ensure getting the lowerbound integer\n",
    "            return mid\n",
    "        elif x<mid**2:\n",
    "            j = mid-1\n",
    "        else:\n",
    "            i = mid+1"
   ]
  },
  {
   "cell_type": "code",
   "execution_count": 13,
   "metadata": {},
   "outputs": [
    {
     "data": {
      "text/plain": [
       "(0, 1, 2, 3)"
      ]
     },
     "execution_count": 13,
     "metadata": {},
     "output_type": "execute_result"
    }
   ],
   "source": [
    "mySqrt(0),mySqrt(1),mySqrt(8),mySqrt(9)"
   ]
  },
  {
   "cell_type": "markdown",
   "metadata": {},
   "source": [
    "## 136. Single Number\n",
    "Given a non-empty array of integers, every element appears twice except for one. Find that single one.\n",
    "> notice: \n",
    "- Your algorithm should have a linear runtime complexity. Could you implement it without using extra memory?\n",
    "\n",
    "> Input: [2,2,1] <br>\n",
    "> Output: 1"
   ]
  },
  {
   "cell_type": "code",
   "execution_count": 14,
   "metadata": {},
   "outputs": [],
   "source": [
    "def singleNumber(nums):\n",
    "    \"\"\"\n",
    "    :type nums: List[int]\n",
    "    :rtype: int\n",
    "    \"\"\"\n",
    "    a = 0\n",
    "    for i in nums:\n",
    "        print((a,i))\n",
    "        a ^= i\n",
    "        print((a),'\\n')\n",
    "    return a"
   ]
  },
  {
   "cell_type": "code",
   "execution_count": 15,
   "metadata": {},
   "outputs": [
    {
     "name": "stdout",
     "output_type": "stream",
     "text": [
      "(0, 4)\n",
      "4 \n",
      "\n",
      "(4, 1)\n",
      "5 \n",
      "\n",
      "(5, 2)\n",
      "7 \n",
      "\n",
      "(7, 1)\n",
      "6 \n",
      "\n",
      "(6, 2)\n",
      "4 \n",
      "\n"
     ]
    },
    {
     "data": {
      "text/plain": [
       "4"
      ]
     },
     "execution_count": 15,
     "metadata": {},
     "output_type": "execute_result"
    }
   ],
   "source": [
    "a = [4,1,2,1,2]\n",
    "singleNumber(a)"
   ]
  },
  {
   "cell_type": "markdown",
   "metadata": {},
   "source": [
    "## 202. Write an algorithm to determine if a number is \"happy\".\n",
    "\n",
    "A happy number is a number defined by the following process: Starting with any positive integer, replace the number by the sum of the squares of its digits, and repeat the process until the number equals 1 (where it will stay), or it loops endlessly in a cycle which does not include 1. Those numbers for which this process ends in 1 are happy numbers.\n",
    "\n",
    ">Input: 19 <br>\n",
    "Output: true <br>\n",
    "Explanation: <br>\n",
    "1^2 + 9^2 = 82 <br>\n",
    "8^2 + 2^2 = 68 <br>\n",
    "6^2 + 8^2 = 100 <br> \n",
    "1^2 + 0^2 + 0^2 = 1 <br>"
   ]
  },
  {
   "cell_type": "code",
   "execution_count": 16,
   "metadata": {},
   "outputs": [],
   "source": [
    "# Reduce to single numbers, only 1/7 could result in \"happy number\"\n",
    "\n",
    "def isHappy(n):\n",
    "    \"\"\"\n",
    "    :type n: int\n",
    "    :rtype: bool\n",
    "    \"\"\"\n",
    "    str_n = str(n)\n",
    "    sum_ = sum([int(i)**2 for i in str_n])\n",
    "    if len(str(sum_)) >=2:\n",
    "        return isHappy(sum_)\n",
    "    elif sum_ == 1 or sum_ == 7:\n",
    "        return True\n",
    "    else:\n",
    "        return False"
   ]
  },
  {
   "cell_type": "code",
   "execution_count": 17,
   "metadata": {},
   "outputs": [
    {
     "data": {
      "text/plain": [
       "True"
      ]
     },
     "execution_count": 17,
     "metadata": {},
     "output_type": "execute_result"
    }
   ],
   "source": [
    "isHappy(19)"
   ]
  },
  {
   "cell_type": "markdown",
   "metadata": {},
   "source": [
    "## Maximum Subarray\n",
    "\n",
    "Given an integer array nums, find the contiguous subarray (containing at least one number) which has the largest sum and return its sum.\n",
    "\n",
    ">Input: [-2,1,-3,4,-1,2,1,-5,4], <br>\n",
    "Output: 6<br>\n",
    "Explanation: [4,-1,2,1] has the largest sum = 6.<br>"
   ]
  },
  {
   "cell_type": "code",
   "execution_count": 18,
   "metadata": {},
   "outputs": [],
   "source": [
    "# Brute Force solution == Runtime error o(n^2)\n",
    "def maxSubArray(nums):\n",
    "    \"\"\"\n",
    "    :type nums: List[int]\n",
    "    :rtype: int\n",
    "    \"\"\"\n",
    "    mx = nums[0]\n",
    "    for lg in range(1,len(nums)+1): # length of the interval\n",
    "        for i in range(len(nums)+1-lg): # the start point\n",
    "            sum_ = sum(nums[i:i+lg])\n",
    "#             print(i,lg,nums[i:i+lg])\n",
    "            if sum_ > mx:\n",
    "                mx = sum_\n",
    "    return mx\n",
    "\n",
    "\n",
    "def maxSubArray(nums):\n",
    "    \"\"\"\n",
    "    :type nums: List[int]\n",
    "    :rtype: int\n",
    "    \"\"\"\n",
    "    max_ = nums[0]\n",
    "    for j in range(len(nums)):\n",
    "        max_cr = 0\n",
    "        for i in nums[j:]:\n",
    "            max_cr += i\n",
    "            max_ = max(max_,max_cr)\n",
    "    return max_"
   ]
  },
  {
   "cell_type": "code",
   "execution_count": 19,
   "metadata": {},
   "outputs": [],
   "source": [
    "# kadane's Algorithm: compute maximum subarray till the index\n",
    "# time complexity: o(n)\n",
    "def maxSubArray(nums):    \n",
    "    for i in range(1,len(nums)):\n",
    "        nums[i] = max(nums[i], nums[i-1] + nums[i])\n",
    "        print(nums[i-1])\n",
    "    return max(nums) "
   ]
  },
  {
   "cell_type": "code",
   "execution_count": 20,
   "metadata": {},
   "outputs": [
    {
     "name": "stdout",
     "output_type": "stream",
     "text": [
      "-1\n",
      "3\n",
      "1\n"
     ]
    },
    {
     "data": {
      "text/plain": [
       "5"
      ]
     },
     "execution_count": 20,
     "metadata": {},
     "output_type": "execute_result"
    }
   ],
   "source": [
    "list_ = [-1,3,-2,4]\n",
    "maxSubArray(list_)"
   ]
  },
  {
   "cell_type": "code",
   "execution_count": null,
   "metadata": {},
   "outputs": [],
   "source": []
  }
 ],
 "metadata": {
  "kernelspec": {
   "display_name": "Python 3",
   "language": "python",
   "name": "python3"
  },
  "language_info": {
   "codemirror_mode": {
    "name": "ipython",
    "version": 3
   },
   "file_extension": ".py",
   "mimetype": "text/x-python",
   "name": "python",
   "nbconvert_exporter": "python",
   "pygments_lexer": "ipython3",
   "version": "3.7.3"
  },
  "toc": {
   "base_numbering": 1,
   "nav_menu": {},
   "number_sections": true,
   "sideBar": true,
   "skip_h1_title": false,
   "title_cell": "Table of Contents",
   "title_sidebar": "Contents",
   "toc_cell": false,
   "toc_position": {},
   "toc_section_display": true,
   "toc_window_display": false
  },
  "varInspector": {
   "cols": {
    "lenName": 16,
    "lenType": 16,
    "lenVar": 40
   },
   "kernels_config": {
    "python": {
     "delete_cmd_postfix": "",
     "delete_cmd_prefix": "del ",
     "library": "var_list.py",
     "varRefreshCmd": "print(var_dic_list())"
    },
    "r": {
     "delete_cmd_postfix": ") ",
     "delete_cmd_prefix": "rm(",
     "library": "var_list.r",
     "varRefreshCmd": "cat(var_dic_list()) "
    }
   },
   "types_to_exclude": [
    "module",
    "function",
    "builtin_function_or_method",
    "instance",
    "_Feature"
   ],
   "window_display": false
  }
 },
 "nbformat": 4,
 "nbformat_minor": 2
}
