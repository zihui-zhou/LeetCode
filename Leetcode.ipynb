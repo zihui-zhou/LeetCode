{
 "cells": [
  {
   "cell_type": "markdown",
   "metadata": {},
   "source": [
    "## Two Sum\n",
    "\n",
    "Given an array of integers, return indices of the two numbers such that they add up to a specific target.\n",
    "\n",
    "You may assume that each input would have exactly one solution, and you may not use the same element twice.\n",
    "\n",
    "- Example:\n",
    "\n",
    "> Given nums = [2, 7, 11, 15], target = 9. <br>\n",
    "Because nums[0] + nums[1] = 2 + 7 = 9, return [0, 1]."
   ]
  },
  {
   "cell_type": "code",
   "execution_count": 1,
   "metadata": {},
   "outputs": [],
   "source": [
    "def two_sum(num_list,target):\n",
    "    visited = {}\n",
    "    for i,num in enumerate(num_list):\n",
    "        remain = target-num\n",
    "        if remain not in visited:\n",
    "            visited[num] = i\n",
    "        else:\n",
    "            print(visited)\n",
    "            return[visited[remain],i] "
   ]
  },
  {
   "cell_type": "code",
   "execution_count": 2,
   "metadata": {},
   "outputs": [
    {
     "name": "stdout",
     "output_type": "stream",
     "text": [
      "{11: 0, 2: 1, 13: 2}\n"
     ]
    },
    {
     "data": {
      "text/plain": [
       "[1, 3]"
      ]
     },
     "execution_count": 2,
     "metadata": {},
     "output_type": "execute_result"
    }
   ],
   "source": [
    "list_ = [11, 2, 13, 7]\n",
    "n = 9\n",
    "two_sum(list_,n)"
   ]
  },
  {
   "cell_type": "code",
   "execution_count": 3,
   "metadata": {},
   "outputs": [],
   "source": [
    "# insights: enumerate function\n",
    "# visit every number once\n",
    "# since there must exist a pair of number that map to the target"
   ]
  },
  {
   "cell_type": "markdown",
   "metadata": {},
   "source": [
    "## Reverse String\n",
    "\n",
    "Write a function that reverses a string. The input string is given as an array of characters char[].\n",
    "Do not allocate extra space for another array, you must do this by modifying the input array in-place with O(1) extra memory.\n",
    "\n",
    "> Input: [\"h\",\"e\",\"l\",\"l\",\"o\"]\n",
    "Output: [\"o\",\"l\",\"l\",\"e\",\"h\"]"
   ]
  },
  {
   "cell_type": "markdown",
   "metadata": {},
   "source": [
    "#### Python save lives"
   ]
  },
  {
   "cell_type": "code",
   "execution_count": 4,
   "metadata": {},
   "outputs": [],
   "source": [
    "def reverseString(s):\n",
    "    return s.reverse() # directly reverse elements in s (directly change)"
   ]
  },
  {
   "cell_type": "code",
   "execution_count": 5,
   "metadata": {},
   "outputs": [
    {
     "data": {
      "text/plain": [
       "['o', 'l', 'l', 'e', 'h']"
      ]
     },
     "execution_count": 5,
     "metadata": {},
     "output_type": "execute_result"
    }
   ],
   "source": [
    "string = [\"h\",\"e\",\"l\",\"l\",\"o\"]\n",
    "reverseString(string)\n",
    "string"
   ]
  },
  {
   "cell_type": "markdown",
   "metadata": {},
   "source": [
    "#### Two Pointers iteration\n",
    "In this approach, two pointers are used to process two array elements at the same time. Usual implementation is to set one pointer in the beginning and one at the end and then to move them until they both meet.\n",
    "\n",
    "- Time complexity : o(N) since swap N/2 elements.\n",
    "- Space complexity: o(1), it's a constant space solution (no extra)"
   ]
  },
  {
   "cell_type": "code",
   "execution_count": 6,
   "metadata": {},
   "outputs": [],
   "source": [
    "def reverseString(s):\n",
    "    i,j = 0,len(s)-1\n",
    "    while i <= j:\n",
    "        s[i],s[j] = s[j],s[i]\n",
    "        i += 1\n",
    "        j -= 1\n",
    "    return s"
   ]
  },
  {
   "cell_type": "code",
   "execution_count": 7,
   "metadata": {},
   "outputs": [
    {
     "data": {
      "text/plain": [
       "['o', 'l', 'l', 'e', 'h']"
      ]
     },
     "execution_count": 7,
     "metadata": {},
     "output_type": "execute_result"
    }
   ],
   "source": [
    "string = [\"h\",\"e\",\"l\",\"l\",\"o\"]\n",
    "reverseString(string)"
   ]
  },
  {
   "cell_type": "markdown",
   "metadata": {},
   "source": [
    "## FizzBuzz\n",
    "\n",
    "Write a program that outputs the string representation of numbers from 1 to n.\n",
    "\n",
    "But for multiples of three it should output “Fizz” instead of the number and for the multiples of five output “Buzz”. For numbers which are multiples of both three and five output “FizzBuzz”.\n",
    "\n",
    "> n = 15, Return:\n",
    "[\n",
    "    \"1\",\n",
    "    \"2\",\n",
    "    \"Fizz\",\n",
    "    \"4\",\n",
    "    \"Buzz\",\n",
    "    \"Fizz\",\n",
    "    \"7\",\n",
    "    \"8\",\n",
    "    \"Fizz\",\n",
    "    \"Buzz\",\n",
    "    \"11\",\n",
    "    \"Fizz\",\n",
    "    \"13\",\n",
    "    \"14\",\n",
    "    \"FizzBuzz\"\n",
    "]"
   ]
  },
  {
   "cell_type": "markdown",
   "metadata": {},
   "source": [
    "#### Approach1: Native Approach\n",
    "- Time complexity : o(N)\n",
    "- Space complexity: o(1)"
   ]
  },
  {
   "cell_type": "code",
   "execution_count": 8,
   "metadata": {},
   "outputs": [],
   "source": [
    "def fizzBuzz(n):\n",
    "        list_ = []\n",
    "        for i in range(1,n+1):\n",
    "            if (i%3==0) and (i%5==0):\n",
    "                list_.append(\"FizzBuzz\")\n",
    "            elif i%5==0:\n",
    "                list_.append(\"Buzz\")\n",
    "            elif i%3==0:\n",
    "                list_.append(\"Fizz\")\n",
    "            else:\n",
    "                list_.append(str(i))\n",
    "        return list_"
   ]
  },
  {
   "cell_type": "markdown",
   "metadata": {},
   "source": [
    "#### Approach2: String Concatenation\n",
    "If there is more prominent asymptotic complexity --> Approach1 will be too complex (too many conditions to check)\n",
    "- Time complexity : o(N)\n",
    "- Space complexity: o(1)"
   ]
  },
  {
   "cell_type": "code",
   "execution_count": 9,
   "metadata": {},
   "outputs": [],
   "source": [
    "def fizzBuzz(n):\n",
    "        ans = []\n",
    "        for num in range(1,n+1):\n",
    "            divisible_by_3 = (num % 3 == 0)\n",
    "            divisible_by_5 = (num % 5 == 0)\n",
    "            num_ans_str = \"\"\n",
    "            if divisible_by_3:\n",
    "                # Divides by 3\n",
    "                num_ans_str += \"Fizz\"\n",
    "            if divisible_by_5:\n",
    "                # Divides by 5\n",
    "                num_ans_str += \"Buzz\"\n",
    "            if not num_ans_str:\n",
    "                # Not divisible by 3 or 5\n",
    "                num_ans_str = str(num)\n",
    "            # Append the current answer str to the ans list\n",
    "            ans.append(num_ans_str)  \n",
    "        return ans"
   ]
  },
  {
   "cell_type": "markdown",
   "metadata": {},
   "source": [
    "#### Approach3: Hash Table (Quicker)\n",
    "less mappings!\n",
    "- Time complexity : o(N)\n",
    "- Space complexity: o(1)"
   ]
  },
  {
   "cell_type": "code",
   "execution_count": 10,
   "metadata": {},
   "outputs": [],
   "source": [
    "def fizzBuzzJazz(n):\n",
    "    dict_ = {3:'Fizz',5:'Buzz', 7:'Jazz'}\n",
    "    list_ = []\n",
    "    for num in range(1,n+1):\n",
    "        num_str = ''\n",
    "        for i in dict_:\n",
    "            if num%i == 0:\n",
    "                num_str += dict_[i]\n",
    "        if not num_str:\n",
    "            num_str += str(num)\n",
    "        list_.append(num_str)\n",
    "    return list_"
   ]
  },
  {
   "cell_type": "code",
   "execution_count": 11,
   "metadata": {},
   "outputs": [
    {
     "data": {
      "text/plain": [
       "['1',\n",
       " '2',\n",
       " 'Fizz',\n",
       " '4',\n",
       " 'Buzz',\n",
       " 'Fizz',\n",
       " 'Jazz',\n",
       " '8',\n",
       " 'Fizz',\n",
       " 'Buzz',\n",
       " '11',\n",
       " 'Fizz',\n",
       " '13',\n",
       " 'Jazz',\n",
       " 'FizzBuzz']"
      ]
     },
     "execution_count": 11,
     "metadata": {},
     "output_type": "execute_result"
    }
   ],
   "source": [
    "fizzBuzzJazz(15)"
   ]
  },
  {
   "cell_type": "markdown",
   "metadata": {},
   "source": [
    "#### FizzBuzz\n",
    "Write a program that outputs the **string** representation of numbers from 1 to n.\n",
    "\n",
    "But for multiples of three it should output “Fizz” instead of the number and for the multiples of five output “Buzz”. For numbers which are multiples of both three and five output “FizzBuzz”."
   ]
  },
  {
   "cell_type": "code",
   "execution_count": 12,
   "metadata": {},
   "outputs": [],
   "source": [
    "def fizzBuzz(n):\n",
    "    dict_ = {3:\"Fizz\", 5:\"Buzz\"}\n",
    "    list_ = []\n",
    "    for i in range(1,n+1):\n",
    "        str_ = \"\"\n",
    "        for j in dict_:      \n",
    "            if i%j == 0:\n",
    "                str_ += dict_[j]\n",
    "        if not str_:\n",
    "            str_ += str(i)\n",
    "        list_.append(str_)\n",
    "    return list_"
   ]
  },
  {
   "cell_type": "code",
   "execution_count": 13,
   "metadata": {},
   "outputs": [
    {
     "data": {
      "text/plain": [
       "['1',\n",
       " '2',\n",
       " 'Fizz',\n",
       " '4',\n",
       " 'Buzz',\n",
       " 'Fizz',\n",
       " '7',\n",
       " '8',\n",
       " 'Fizz',\n",
       " 'Buzz',\n",
       " '11',\n",
       " 'Fizz',\n",
       " '13',\n",
       " '14',\n",
       " 'FizzBuzz']"
      ]
     },
     "execution_count": 13,
     "metadata": {},
     "output_type": "execute_result"
    }
   ],
   "source": [
    "fizzBuzz(15)"
   ]
  },
  {
   "cell_type": "markdown",
   "metadata": {},
   "source": [
    "## Sqrt(x)\n",
    "\n",
    "Implement int sqrt(int x): Compute and return the square root of x, where x is guaranteed to be a non-negative integer. Since the return type is an integer, the decimal digits are truncated and only the integer part of the result is returned. mySqrt(8)=2 & mySqrt(0)=0\n",
    "> notice: \n",
    "- two pointers\n",
    "- mid = lower bound\n",
    "- mid-1/mid+1"
   ]
  },
  {
   "cell_type": "code",
   "execution_count": 14,
   "metadata": {},
   "outputs": [],
   "source": [
    "def mySqrt(x):\n",
    "    i = 0\n",
    "    j = x\n",
    "    while i <= j:\n",
    "        mid = (i+j)//2 # ensure it's an integer\n",
    "        if mid**2<=x<(mid+1)**2: # ensure getting the lowerbound integer\n",
    "            return mid\n",
    "        elif x<mid**2:\n",
    "            j = mid-1\n",
    "        else:\n",
    "            i = mid+1"
   ]
  },
  {
   "cell_type": "code",
   "execution_count": 15,
   "metadata": {},
   "outputs": [
    {
     "data": {
      "text/plain": [
       "(0, 1, 2, 3)"
      ]
     },
     "execution_count": 15,
     "metadata": {},
     "output_type": "execute_result"
    }
   ],
   "source": [
    "mySqrt(0),mySqrt(1),mySqrt(8),mySqrt(9)"
   ]
  },
  {
   "cell_type": "markdown",
   "metadata": {},
   "source": [
    "## 136. Single Number\n",
    "Given a non-empty array of integers, every element appears twice except for one. Find that single one.\n",
    "> notice: \n",
    "- Your algorithm should have a linear runtime complexity. Could you implement it without using extra memory?\n",
    "\n",
    "> Input: [2,2,1] <br>\n",
    "> Output: 1"
   ]
  },
  {
   "cell_type": "code",
   "execution_count": 16,
   "metadata": {},
   "outputs": [],
   "source": [
    "def singleNumber(nums):\n",
    "    \"\"\"\n",
    "    :type nums: List[int]\n",
    "    :rtype: int\n",
    "    \"\"\"\n",
    "    a = 0\n",
    "    for i in nums:\n",
    "        print((a,i))\n",
    "        a ^= i\n",
    "        print((a),'\\n')\n",
    "    return a"
   ]
  },
  {
   "cell_type": "code",
   "execution_count": 17,
   "metadata": {},
   "outputs": [
    {
     "name": "stdout",
     "output_type": "stream",
     "text": [
      "(0, 4)\n",
      "4 \n",
      "\n",
      "(4, 1)\n",
      "5 \n",
      "\n",
      "(5, 2)\n",
      "7 \n",
      "\n",
      "(7, 1)\n",
      "6 \n",
      "\n",
      "(6, 2)\n",
      "4 \n",
      "\n"
     ]
    },
    {
     "data": {
      "text/plain": [
       "4"
      ]
     },
     "execution_count": 17,
     "metadata": {},
     "output_type": "execute_result"
    }
   ],
   "source": [
    "a = [4,1,2,1,2]\n",
    "singleNumber(a)"
   ]
  },
  {
   "cell_type": "markdown",
   "metadata": {},
   "source": [
    "## 202. Write an algorithm to determine if a number is \"happy\".\n",
    "\n",
    "A happy number is a number defined by the following process: Starting with any positive integer, replace the number by the sum of the squares of its digits, and repeat the process until the number equals 1 (where it will stay), or it loops endlessly in a cycle which does not include 1. Those numbers for which this process ends in 1 are happy numbers.\n",
    "\n",
    ">Input: 19 <br>\n",
    "Output: true <br>\n",
    "Explanation: <br>\n",
    "1^2 + 9^2 = 82 <br>\n",
    "8^2 + 2^2 = 68 <br>\n",
    "6^2 + 8^2 = 100 <br> \n",
    "1^2 + 0^2 + 0^2 = 1 <br>"
   ]
  },
  {
   "cell_type": "code",
   "execution_count": 18,
   "metadata": {},
   "outputs": [],
   "source": [
    "# Reduce to single numbers, only 1/7 could result in \"happy number\"\n",
    "\n",
    "def isHappy(n):\n",
    "    \"\"\"\n",
    "    :type n: int\n",
    "    :rtype: bool\n",
    "    \"\"\"\n",
    "    str_n = str(n)\n",
    "    sum_ = sum([int(i)**2 for i in str_n])\n",
    "    if len(str(sum_)) >=2:\n",
    "        return isHappy(sum_)\n",
    "    elif sum_ == 1 or sum_ == 7:\n",
    "        return True\n",
    "    else:\n",
    "        return False"
   ]
  },
  {
   "cell_type": "code",
   "execution_count": 19,
   "metadata": {},
   "outputs": [
    {
     "data": {
      "text/plain": [
       "True"
      ]
     },
     "execution_count": 19,
     "metadata": {},
     "output_type": "execute_result"
    }
   ],
   "source": [
    "isHappy(19)"
   ]
  },
  {
   "cell_type": "markdown",
   "metadata": {},
   "source": [
    "## Maximum Subarray\n",
    "\n",
    "Given an integer array nums, find the contiguous subarray (containing at least one number) which has the largest sum and return its sum.\n",
    "\n",
    ">Input: [-2,1,-3,4,-1,2,1,-5,4], <br>\n",
    "Output: 6<br>\n",
    "Explanation: [4,-1,2,1] has the largest sum = 6.<br>"
   ]
  },
  {
   "cell_type": "code",
   "execution_count": 20,
   "metadata": {},
   "outputs": [],
   "source": [
    "# Brute Force solution == Runtime error o(n^2)\n",
    "def maxSubArray(nums):\n",
    "    \"\"\"\n",
    "    :type nums: List[int]\n",
    "    :rtype: int\n",
    "    \"\"\"\n",
    "    mx = nums[0]\n",
    "    for lg in range(1,len(nums)+1): # length of the interval\n",
    "        for i in range(len(nums)+1-lg): # the start point\n",
    "            sum_ = sum(nums[i:i+lg])\n",
    "#             print(i,lg,nums[i:i+lg])\n",
    "            if sum_ > mx:\n",
    "                mx = sum_\n",
    "    return mx\n",
    "\n",
    "\n",
    "def maxSubArray(nums):\n",
    "    \"\"\"\n",
    "    :type nums: List[int]\n",
    "    :rtype: int\n",
    "    \"\"\"\n",
    "    max_ = nums[0]\n",
    "    for j in range(len(nums)):\n",
    "        max_cr = 0\n",
    "        for i in nums[j:]:\n",
    "            max_cr += i\n",
    "            max_ = max(max_,max_cr)\n",
    "    return max_"
   ]
  },
  {
   "cell_type": "code",
   "execution_count": 21,
   "metadata": {},
   "outputs": [],
   "source": [
    "# kadane's Algorithm: compute maximum subarray till the index\n",
    "# time complexity: o(n)\n",
    "def maxSubArray(nums):    \n",
    "    for i in range(1,len(nums)):\n",
    "        nums[i] = max(nums[i], nums[i-1] + nums[i])\n",
    "        print(nums[i-1])\n",
    "    return max(nums) "
   ]
  },
  {
   "cell_type": "code",
   "execution_count": 22,
   "metadata": {
    "scrolled": true
   },
   "outputs": [
    {
     "name": "stdout",
     "output_type": "stream",
     "text": [
      "-1\n",
      "3\n",
      "1\n"
     ]
    },
    {
     "data": {
      "text/plain": [
       "5"
      ]
     },
     "execution_count": 22,
     "metadata": {},
     "output_type": "execute_result"
    }
   ],
   "source": [
    "list_ = [-1,3,-2,4]\n",
    "maxSubArray(list_)"
   ]
  },
  {
   "cell_type": "markdown",
   "metadata": {},
   "source": [
    "## 283. Move Zeroes\n",
    "Given an array nums, write a function to move all 0's to the end of it while maintaining the relative order of the non-zero elements.\n",
    ">__Examples__<br>\n",
    "Input: [0,1,0,3,12]<br>\n",
    "Output: [1,3,12,0,0]<br>\n",
    "\n",
    "Note:<br>\n",
    "- You must do this in-place without making a copy of the array.\n",
    "- Minimize the total number of operations."
   ]
  },
  {
   "cell_type": "code",
   "execution_count": 23,
   "metadata": {},
   "outputs": [],
   "source": [
    "# Using an additional array -- large memory usage\n",
    "def moveZeroes(nums):\n",
    "    \"\"\"\n",
    "    :type nums: List[int]\n",
    "    :rtype: None Do not return anything, modify nums in-place instead.\n",
    "    \"\"\"\n",
    "    list_ = []\n",
    "    nonzero_count = 0\n",
    "    for i in range(len(nums)):\n",
    "        if nums[i] == 0:\n",
    "            list_.insert(len(list_), 0)\n",
    "        else:\n",
    "            list_.insert(nonzero_count, nums[i])\n",
    "            nonzero_count = + 1\n",
    "    return list_"
   ]
  },
  {
   "cell_type": "code",
   "execution_count": 24,
   "metadata": {},
   "outputs": [],
   "source": [
    "# in-place method\n",
    "# concept--two pointers: one for position index, one for\n",
    "# time-complexity: o(n)\n",
    "# space\n",
    "\n",
    "\n",
    "def moveZeroes(nums):\n",
    "    pos = 0\n",
    "    for i in range(len(nums)):\n",
    "        if nums[i] != 0:\n",
    "            nums[pos] = nums[i]\n",
    "            pos += 1\n",
    "    for j in range(pos, len(nums)):\n",
    "        nums[j] = 0\n",
    "    return nums\n",
    "\n",
    "\n",
    "def moveZeroes(nums):\n",
    "    i = j = 0\n",
    "    for i in range(len(nums)):\n",
    "        if nums[i] != 0:\n",
    "            print(nums)\n",
    "            nums[j], nums[i] = nums[i], nums[j]\n",
    "            j += 1\n",
    "    return nums"
   ]
  },
  {
   "cell_type": "code",
   "execution_count": 25,
   "metadata": {},
   "outputs": [],
   "source": [
    "# bubble-sort\n",
    "# time complexity: o(n^2) HIGH\n",
    "\n",
    "\n",
    "def moveZeroes(nums):\n",
    "    for i in range(len(nums)):\n",
    "        for j in range(len(nums)-1):\n",
    "            if nums[j] == 0:\n",
    "                nums[j], nums[j+1] = nums[j+1], nums[j]\n",
    "    return nums"
   ]
  },
  {
   "cell_type": "code",
   "execution_count": 26,
   "metadata": {},
   "outputs": [
    {
     "data": {
      "text/plain": [
       "[1, 3, 12, 0, 0]"
      ]
     },
     "execution_count": 26,
     "metadata": {},
     "output_type": "execute_result"
    }
   ],
   "source": [
    "a = [0, 1, 0, 3, 12]\n",
    "moveZeroes(a)"
   ]
  },
  {
   "cell_type": "code",
   "execution_count": 27,
   "metadata": {},
   "outputs": [
    {
     "name": "stdout",
     "output_type": "stream",
     "text": [
      "3\n",
      "9\n",
      "27\n",
      "81\n",
      "243\n",
      "729\n",
      "2187\n",
      "6561\n",
      "19683\n"
     ]
    }
   ],
   "source": [
    "for i in range(1,10):\n",
    "    print(3**i)"
   ]
  },
  {
   "cell_type": "code",
   "execution_count": 28,
   "metadata": {},
   "outputs": [
    {
     "data": {
      "text/plain": [
       "33.333333333333336"
      ]
     },
     "execution_count": 28,
     "metadata": {},
     "output_type": "execute_result"
    }
   ],
   "source": [
    "n = 100\n",
    "n/=3\n",
    "n"
   ]
  },
  {
   "cell_type": "markdown",
   "metadata": {},
   "source": [
    "## Power of Three\n",
    "Given an integer, write a function to determine if it is a power of three."
   ]
  },
  {
   "cell_type": "code",
   "execution_count": 29,
   "metadata": {},
   "outputs": [],
   "source": [
    "# n=1 is also power of three (zero)\n",
    "def isPowerOfThree(n):\n",
    "    \"\"\"\n",
    "    :type n: int\n",
    "    :rtype: bool\n",
    "    \"\"\"\n",
    "    while n >= 10:\n",
    "        if n%3 == 0:\n",
    "            n = n/3\n",
    "        else:\n",
    "            return False\n",
    "    if n == 3 or n == 9:\n",
    "        return True\n",
    "    else:\n",
    "        return False"
   ]
  },
  {
   "cell_type": "markdown",
   "metadata": {},
   "source": [
    "## Count Prime\n",
    "\n",
    "Count the number of prime numbers less than a non-negative number, n.\n",
    "\n",
    "- 1 isn't prime\n",
    "- less than n (exclusive)"
   ]
  },
  {
   "cell_type": "code",
   "execution_count": 30,
   "metadata": {},
   "outputs": [],
   "source": [
    "# no errors, but the time limit exceeded...\n",
    "def countPrimes(n):\n",
    "    \"\"\"\n",
    "    :type n: int\n",
    "    :rtype: int\n",
    "    \"\"\"\n",
    "    if n <= 2:\n",
    "        return 0\n",
    "    elif n == 3:\n",
    "        return 1\n",
    "    else:  # n>=4\n",
    "        count = 2  # base case: have at least 2 prime numbers\n",
    "        for i in range(4, n):  # count the number of primes starting from 4\n",
    "            if not any(map(lambda x: i % x == 0, range(2, i))):\n",
    "                count += 1\n",
    "        return count"
   ]
  },
  {
   "cell_type": "code",
   "execution_count": 31,
   "metadata": {},
   "outputs": [],
   "source": [
    "# check whether prime\n",
    "def checkPrimes(n):\n",
    "    if any(map(lambda x: n%x==0, range(2, n))):\n",
    "        return False\n",
    "    else:\n",
    "        return True"
   ]
  },
  {
   "cell_type": "code",
   "execution_count": 32,
   "metadata": {},
   "outputs": [],
   "source": [
    "# save time\n",
    "def countPrimes(n):\n",
    "    if n <= 2:\n",
    "        return 0\n",
    "    res = [True] * n # generate a length = n list\n",
    "    res[0] = res[1] = False # since 0,1 not prime\n",
    "    for i in range(2, n):\n",
    "        if res[i] == True: #some already set to False will not operate\n",
    "            for j in range(2, (n-1)//i+1):\n",
    "                res[i*j] = False # set the non-prime to false\n",
    "    return sum(res)"
   ]
  },
  {
   "cell_type": "markdown",
   "metadata": {},
   "source": [
    "## 122. Best Time to Buy and Sell Stock II\n",
    "\n",
    "Say you have an array for which the ith element is the price of a given stock on day i.\n",
    "\n",
    "Design an algorithm to find the maximum profit. You may complete as many transactions as you like (i.e., buy one and sell one share of the stock multiple times).\n",
    "\n",
    "__Note__: You may not engage in multiple transactions at the same time (i.e., you must sell the stock before you buy again)."
   ]
  },
  {
   "cell_type": "code",
   "execution_count": 33,
   "metadata": {},
   "outputs": [],
   "source": [
    "# overall maxmium gain = peak - bottom\n",
    "# each peak-bottom = accumulative addition if the next item > the current one\n",
    "\n",
    "\n",
    "def maxProfit(prices):\n",
    "    \"\"\"\n",
    "    :type prices: List[int]\n",
    "    :rtype: int\n",
    "    \"\"\"\n",
    "    # considering the base case\n",
    "    if len(prices) <= 1:\n",
    "        return 0\n",
    "    else:\n",
    "        total = 0\n",
    "        for i in range(len(prices)-1):\n",
    "            if prices[i+1] > prices[i]:\n",
    "                total += prices[i+1] - prices[i]\n",
    "        return total"
   ]
  },
  {
   "cell_type": "code",
   "execution_count": 34,
   "metadata": {},
   "outputs": [
    {
     "data": {
      "text/plain": [
       "7"
      ]
     },
     "execution_count": 34,
     "metadata": {},
     "output_type": "execute_result"
    }
   ],
   "source": [
    "x = [7,1,5,3,6,4]\n",
    "maxProfit(x)"
   ]
  },
  {
   "cell_type": "markdown",
   "metadata": {},
   "source": [
    "## Roman to Integers\n",
    "\n",
    "Roman numerals are represented by seven different symbols: I, V, X, L, C, D and M.\n",
    "> Symbol       Value <br>\n",
    "I             1 <br>\n",
    "V             5 <br>\n",
    "X             10 <br>\n",
    "L             50 <br>\n",
    "C             100 <br>\n",
    "D             500 <br>\n",
    "M             1000 <br>\n",
    "\n",
    "For example, two is written as II in Roman numeral, just two one's added together. Twelve is written as, XII, which is simply X + II. The number twenty seven is written as XXVII, which is XX + V + II.\n",
    "\n",
    "Roman numerals are usually written largest to smallest from left to right. However, the numeral for four is not IIII. Instead, the number four is written as IV. Because the one is before the five we subtract it making four. The same principle applies to the number nine, which is written as IX. There are six instances where subtraction is used:\n",
    "\n",
    "I can be placed before V (5) and X (10) to make 4 and 9. \n",
    "X can be placed before L (50) and C (100) to make 40 and 90. \n",
    "C can be placed before D (500) and M (1000) to make 400 and 900.\n",
    "Given a roman numeral, convert it to an integer. Input is guaranteed to be within the range from 1 to 3999."
   ]
  },
  {
   "cell_type": "code",
   "execution_count": 35,
   "metadata": {},
   "outputs": [],
   "source": [
    "# general rules: largest to smallest from left to right\n",
    "# exceptions: 4/9\n",
    "# input: range 1~3999\n",
    "\n",
    "\n",
    "def IntToroman(s):\n",
    "    \"\"\"\n",
    "    :type s: str\n",
    "    :rtype: int\n",
    "    \"\"\"\n",
    "    h = {1: \"I\", 5: \"V\", 10: \"X\", 50: \"L\", 100: \"C\", 500: \"D\", 1000: \"M\"}\n",
    "    thousand = s//1000\n",
    "    hundred = (s-thousand*1000)//100\n",
    "    ten = (s-thousand*1000-hundred*100)//10\n",
    "    single = s-thousand*1000-hundred*100-ten*10\n",
    "\n",
    "    # transforming the strings\n",
    "    if hundred <= 3:\n",
    "        hundred_str = hundred*\"C\"\n",
    "    elif hundred == 4:\n",
    "        hundred_str = \"CD\"\n",
    "    elif hundred == 9:\n",
    "        hundred_str = \"CM\"\n",
    "    else:\n",
    "        hundred_str = \"D\"+\"C\"*(hundred-5)\n",
    "\n",
    "    if ten <= 3:\n",
    "        ten_str = ten * \"X\"\n",
    "    elif ten == 4:\n",
    "        ten_str = \"XL\"\n",
    "    elif ten == 9:\n",
    "        ten_str = \"XC\"\n",
    "    else:\n",
    "        ten_str = \"L\"+\"X\"* (ten-5)\n",
    "    \n",
    "    \n",
    "    if single <= 3:\n",
    "        single_str = single * \"I\"\n",
    "    elif single == 4:\n",
    "        single_str = \"IV\"\n",
    "    elif single == 9:\n",
    "        single_str = \"IX\"\n",
    "    else:\n",
    "        single_str = \"V\"+\"I\"* (single-5)\n",
    "        \n",
    "    str_ = thousand*\"M\" + hundred_str + ten_str + single_str\n",
    "        \n",
    "    return str_"
   ]
  },
  {
   "cell_type": "code",
   "execution_count": 36,
   "metadata": {},
   "outputs": [
    {
     "data": {
      "text/plain": [
       "'MCMXCIV'"
      ]
     },
     "execution_count": 36,
     "metadata": {},
     "output_type": "execute_result"
    }
   ],
   "source": [
    "# Just realized I made the wrong way...\n",
    "IntToroman(1994)"
   ]
  },
  {
   "cell_type": "code",
   "execution_count": 37,
   "metadata": {},
   "outputs": [],
   "source": [
    "# My solution\n",
    "def romanToInt(s):\n",
    "    h = {\"I\": 1, \"IV\": 4, \"V\": 5, \"IX\": 9, \"X\": 10, \"XL\": 40, \"L\": 50, \"XC\": 90, \"C\": 100,\n",
    "         \"CD\": 400, \"D\": 500, \"CM\": 900, \"M\": 1000}\n",
    "    int_ = 0\n",
    "    i = 0\n",
    "    while i <= len(s)-1:\n",
    "        if s[i:i+2] in h:\n",
    "            int_ += h[s[i:i+2]]\n",
    "            i += 2\n",
    "        else:\n",
    "            int_ += h[s[i]]\n",
    "            i += 1\n",
    "    return int_"
   ]
  },
  {
   "cell_type": "code",
   "execution_count": 38,
   "metadata": {},
   "outputs": [],
   "source": [
    "map = {'I':1, 'V':5, 'X':10, 'L':50, 'C':100, 'D':500, 'M':1000}\n",
    "\n",
    "def romanToInt(s):\n",
    "    num, pre = 0, 1000\n",
    "    for i in [map[j] for j in s]: # [1000, 1000, 1000, 100, 1000, 10, 100, 1, 5]\n",
    "        # when envounter ab pattern (a>b), then the sum minus 2\n",
    "        if i > pre:\n",
    "            num, pre = num + i - 2*pre, pre # num += 900, but not 1000+100 = 1100\n",
    "            print(num,pre,i,'\\n')\n",
    "        else:\n",
    "            num, pre = num + i, i\n",
    "            print(num,pre,i)\n",
    "    return num"
   ]
  },
  {
   "cell_type": "code",
   "execution_count": 39,
   "metadata": {},
   "outputs": [
    {
     "name": "stdout",
     "output_type": "stream",
     "text": [
      "1000 1000 1000\n",
      "2000 1000 1000\n",
      "3000 1000 1000\n",
      "3100 100 100\n",
      "3900 100 1000 \n",
      "\n",
      "3910 10 10\n",
      "3990 10 100 \n",
      "\n",
      "3991 1 1\n",
      "3994 1 5 \n",
      "\n"
     ]
    },
    {
     "data": {
      "text/plain": [
       "3994"
      ]
     },
     "execution_count": 39,
     "metadata": {},
     "output_type": "execute_result"
    }
   ],
   "source": [
    "romanToInt(\"MMMCMXCIV\")"
   ]
  },
  {
   "cell_type": "code",
   "execution_count": 40,
   "metadata": {},
   "outputs": [],
   "source": [
    "def romanToInt(s):\n",
    "    num = 0\n",
    "    list_ = [map[j] for j in s]\n",
    "    list_.append(list_[-1])\n",
    "    for i in range(len(list_)-1): # [1000, 1000, 1000, 100, 1000, 10, 100, 1, 5]\n",
    "        if list_[i] < list_[i+1]:\n",
    "            num -= list_[i] \n",
    "        else:\n",
    "            num += list_[i]\n",
    "    return num"
   ]
  },
  {
   "cell_type": "code",
   "execution_count": 41,
   "metadata": {},
   "outputs": [
    {
     "data": {
      "text/plain": [
       "3994"
      ]
     },
     "execution_count": 41,
     "metadata": {},
     "output_type": "execute_result"
    }
   ],
   "source": [
    "romanToInt(\"MMMCMXCIV\")"
   ]
  },
  {
   "cell_type": "markdown",
   "metadata": {},
   "source": [
    "## 49. Group Anagrams--同字母异序词\n",
    "Given an array of strings, group anagrams together.\n",
    "> Input: [\"eat\", \"tea\", \"tan\", \"ate\", \"nat\", \"bat\"], <br>\n",
    "Output:\n",
    "[\n",
    "  [\"ate\",\"eat\",\"tea\"],\n",
    "  [\"nat\",\"tan\"],\n",
    "  [\"bat\"]\n",
    "]"
   ]
  },
  {
   "cell_type": "code",
   "execution_count": 42,
   "metadata": {},
   "outputs": [],
   "source": [
    "# for each item in the list, split it into a set\n",
    "# if it already existed in the dict, append to the corresponding\n",
    "# return dict.values()\n",
    "\n",
    "# set(): mutable, unhashable\n",
    "# frozenset(): immutable, hashable\n",
    "\n",
    "# PROBLEM: \"bob\" & \"boo\" will be consideres as the same category\n",
    "\n",
    "\n",
    "def groupAnagrams(strs):\n",
    "    dict_ = {}\n",
    "    for i in strs:\n",
    "        key = frozenset(list(i))\n",
    "        if key in dict_:\n",
    "            dict_[key].append(i)\n",
    "        else:\n",
    "            dict_[key] = [i]\n",
    "    return dict_.values()"
   ]
  },
  {
   "cell_type": "code",
   "execution_count": 43,
   "metadata": {},
   "outputs": [],
   "source": [
    "# for each item in the list, ***SORTED***\n",
    "# if it already existed in the dict, append to the corresponding\n",
    "# return dict.values()\n",
    "\n",
    "# same== sorted() --> return a list of characters\n",
    "# group: mapping -- dict_.values()\n",
    "# diction: key should be immutable (int, float, bool, str, tuple, unicode) -- can't be changed after being created\n",
    "# for here, the best way is to use str/tuple\n",
    "\n",
    "\n",
    "def groupAnagrams(strs):\n",
    "    dict_ = {}\n",
    "    for i in strs:\n",
    "        key = tuple(sorted(i)) # or \"\".join((sorted(i))\n",
    "        if key in dict_:\n",
    "            dict_[key].append(i)\n",
    "        else:\n",
    "            dict_[key] = [i]\n",
    "    return dict_.values()"
   ]
  },
  {
   "cell_type": "code",
   "execution_count": 44,
   "metadata": {},
   "outputs": [
    {
     "data": {
      "text/plain": [
       "dict_values([['eat', 'tea', 'ate'], ['tan', 'nat'], ['bat']])"
      ]
     },
     "execution_count": 44,
     "metadata": {},
     "output_type": "execute_result"
    }
   ],
   "source": [
    "strs = [\"eat\", \"tea\", \"tan\", \"ate\", \"nat\", \"bat\"]\n",
    "groupAnagrams(strs)"
   ]
  },
  {
   "cell_type": "markdown",
   "metadata": {},
   "source": [
    "## Counting Elements （new)"
   ]
  },
  {
   "cell_type": "code",
   "execution_count": 51,
   "metadata": {},
   "outputs": [],
   "source": [
    "def countElements(arr):\n",
    "    \"\"\"\n",
    "    :type arr: List[int]\n",
    "    :rtype: int\n",
    "    \"\"\"\n",
    "    count = 0\n",
    "    for i in arr:\n",
    "        if (i+1) in arr:\n",
    "            count += 1\n",
    "    return count"
   ]
  },
  {
   "cell_type": "code",
   "execution_count": 54,
   "metadata": {},
   "outputs": [
    {
     "data": {
      "text/plain": [
       "2"
      ]
     },
     "execution_count": 54,
     "metadata": {},
     "output_type": "execute_result"
    }
   ],
   "source": [
    "b = [1,2,3]\n",
    "countElements(b)"
   ]
  },
  {
   "cell_type": "markdown",
   "metadata": {},
   "source": [
    "## Middle of the Linked List\n",
    "Given a non-empty, singly linked list with head node head, return a middle node of linked list.\n",
    "If there are two middle nodes, return the second middle node."
   ]
  },
  {
   "cell_type": "code",
   "execution_count": 6,
   "metadata": {},
   "outputs": [],
   "source": [
    "# Definition for singly-linked list.\n",
    "class ListNode:\n",
    "    def __init__(self, x):\n",
    "        self.val = x\n",
    "        self.next = None\n",
    "\n",
    "# two pointers: both of them start at the head\n",
    "def middleNode(head):\n",
    "    \"\"\"\n",
    "    :type head: ListNode\n",
    "    :rtype: ListNode\n",
    "    \"\"\"\n",
    "    fast = slow = head # head is a ListNode object\n",
    "    while fast and fast.next:\n",
    "        fast, slow = fast.next.next, slow.next\n",
    "    return slow    "
   ]
  },
  {
   "cell_type": "code",
   "execution_count": 2,
   "metadata": {},
   "outputs": [],
   "source": [
    "x = ListNode([1,2,3,4,5,6])"
   ]
  },
  {
   "cell_type": "markdown",
   "metadata": {},
   "source": [
    "## Backspace String Compare\n",
    "Given two strings S and T, return if they are equal when both are typed into empty text editors. # means a backspace character."
   ]
  },
  {
   "cell_type": "code",
   "execution_count": 82,
   "metadata": {},
   "outputs": [],
   "source": [
    "def backspaceCompare(S, T):\n",
    "    \"\"\"\n",
    "    :type S: str\n",
    "    :type T: str\n",
    "    :rtype: bool\n",
    "    \"\"\"\n",
    "    S2 = []\n",
    "    T2 = []\n",
    "    for i in S:\n",
    "        if i == \"#\":\n",
    "            # element before it: remove the previous element\n",
    "            if len(S2) >= 1:\n",
    "                S2.pop() # function as the \"delete\" as required\n",
    "        else:\n",
    "            S2.append(i) # keep the element\n",
    "    for i in T:\n",
    "        if i == \"#\":\n",
    "            if len(T2) >= 1:\n",
    "                T2.pop()\n",
    "        else:\n",
    "            T2.append(i)\n",
    "    return S2 == T2"
   ]
  },
  {
   "cell_type": "code",
   "execution_count": 83,
   "metadata": {},
   "outputs": [
    {
     "data": {
      "text/plain": [
       "True"
      ]
     },
     "execution_count": 83,
     "metadata": {},
     "output_type": "execute_result"
    }
   ],
   "source": [
    "S = \"ab##\"\n",
    "T = \"##d#\"\n",
    "backspaceCompare(S, T)"
   ]
  },
  {
   "cell_type": "markdown",
   "metadata": {},
   "source": [
    "## Min Stack\n",
    "Design a stack that supports push, pop, top, and retrieving the minimum element in constant time.\n",
    "\n",
    "- push(x) -- Push element x onto stack.\n",
    "- pop() -- Removes the element on top of the stack.\n",
    "- top() -- Get the top element.\n",
    "- getMin() -- Retrieve the minimum element in the stack."
   ]
  },
  {
   "cell_type": "code",
   "execution_count": 1,
   "metadata": {},
   "outputs": [],
   "source": [
    "class MinStack(object):\n",
    "\n",
    "    def __init__(self):\n",
    "        \"\"\"\n",
    "        initialize your data structure here.\n",
    "        \"\"\"\n",
    "        self.list = []\n",
    "        \n",
    "\n",
    "    def push(self, x):\n",
    "        \"\"\"\n",
    "        :type x: int\n",
    "        :rtype: None\n",
    "        \"\"\"\n",
    "        self.list.append(x)\n",
    "        \n",
    "\n",
    "    def pop(self):\n",
    "        \"\"\"\n",
    "        :rtype: None\n",
    "        \"\"\"\n",
    "        self.list.pop()\n",
    "        \n",
    "\n",
    "    def top(self):\n",
    "        \"\"\"\n",
    "        :rtype: int\n",
    "        \"\"\"\n",
    "        return self.list[-1]\n",
    "\n",
    "    def getMin(self):\n",
    "        \"\"\"\n",
    "        :rtype: int\n",
    "        \"\"\"\n",
    "        return min(self.list)\n",
    "\n",
    "\n",
    "# Your MinStack object will be instantiated and called as such:\n",
    "# obj = MinStack()\n",
    "# obj.push(x)\n",
    "# obj.pop()\n",
    "# param_3 = obj.top()\n",
    "# param_4 = obj.getMin()"
   ]
  },
  {
   "cell_type": "code",
   "execution_count": 2,
   "metadata": {},
   "outputs": [
    {
     "data": {
      "text/plain": [
       "(-3, 0, -2)"
      ]
     },
     "execution_count": 2,
     "metadata": {},
     "output_type": "execute_result"
    }
   ],
   "source": [
    "obj = MinStack()\n",
    "obj.push(-2)\n",
    "obj.push(0)\n",
    "obj.push(-3)\n",
    "a = obj.getMin()\n",
    "obj.pop()\n",
    "b = obj.top()\n",
    "c = obj.getMin()\n",
    "a,b,c"
   ]
  },
  {
   "cell_type": "markdown",
   "metadata": {},
   "source": [
    "## Diameter of Binary Tree\n",
    "Given a binary tree, you need to compute the length of the diameter of the tree. The diameter of a binary tree is the length of the longest path between any two nodes in a tree. This path may or may not pass through the root."
   ]
  },
  {
   "cell_type": "code",
   "execution_count": 20,
   "metadata": {},
   "outputs": [],
   "source": [
    "# Definition for a binary tree node.\n",
    "class Node(object):\n",
    "    def __init__(self, x):\n",
    "        self.val = x\n",
    "        self.left = None\n",
    "        self.right = None\n",
    "\n",
    "# class Solution(object):\n",
    "def diameterOfBinaryTree(root):\n",
    "    \"\"\"\n",
    "    :type root: TreeNode\n",
    "    :rtype: int\n",
    "    \"\"\"\n",
    "    def maxDepth(node): \n",
    "        if node is None: \n",
    "            return 0\n",
    "        else : \n",
    "            # Compute the depth of each subtree \n",
    "            lDepth = maxDepth(node.left) \n",
    "            rDepth = maxDepth(node.right) \n",
    "            # Use the larger one \n",
    "            if (lDepth > rDepth): \n",
    "                return lDepth+1\n",
    "            else: \n",
    "                return rDepth+1\n",
    "    # test the [] case\n",
    "    if root is None:\n",
    "        return 0\n",
    "    else:\n",
    "        max_ = 0\n",
    "        while root:\n",
    "            root_mD = maxDepth(root.left)+maxDepth(root.right)\n",
    "            rootl_mD = maxDepth(root.left.left)+maxDepth(root.left.right)\n",
    "            rootr_mD = maxDepth(root.right.left)+maxDepth(root.right.right)\n",
    "            if (root_mD>rootl_mD) and (root_mD>rootr_mD):\n",
    "                return root_mD\n",
    "            elif (rootl_mD>root_mD) and (rootl_mD>rootr_mD):\n",
    "                root = root.\n",
    "        else:\n",
    "            return \n",
    "    # calculate the right sub-tree depth\n",
    "        return (+) "
   ]
  },
  {
   "cell_type": "code",
   "execution_count": 21,
   "metadata": {},
   "outputs": [],
   "source": [
    "root = Node(1) \n",
    "root.left = Node(2) \n",
    "root.right = Node(3) \n",
    "root.left.left = Node(4) \n",
    "root.left.right = Node(5) "
   ]
  },
  {
   "cell_type": "code",
   "execution_count": 22,
   "metadata": {},
   "outputs": [
    {
     "data": {
      "text/plain": [
       "3"
      ]
     },
     "execution_count": 22,
     "metadata": {},
     "output_type": "execute_result"
    }
   ],
   "source": [
    "diameterOfBinaryTree(root)"
   ]
  },
  {
   "cell_type": "markdown",
   "metadata": {},
   "source": [
    "However, the diameter not always passes the root"
   ]
  },
  {
   "cell_type": "code",
   "execution_count": null,
   "metadata": {},
   "outputs": [],
   "source": [
    "class Solution(object):\n",
    "    def diameterOfBinaryTree(root):\n",
    "        \"\"\"\n",
    "        :type root: TreeNode\n",
    "        :rtype: int\n",
    "        \"\"\"          \n",
    "        if root is None: # check the base case\n",
    "            return 0\n",
    "        else:\n",
    "            lh = self.height(root.left) # count the height == the deep \"edges\"\n",
    "            rh = self.height(root.right)\n",
    "            ldiameter = self.diameterOfBinaryTree(root.left)\n",
    "            rdiameter = self.diameterOfBinaryTree(root.right)\n",
    "            return max(lh+rh,max(ldiameter,rdiameter))\n",
    "        \n",
    "    def height(self,root): # define another method\n",
    "        if root is None: \n",
    "            return 0\n",
    "        else:\n",
    "            return 1 + max(self.height(root.left),self.height(root.right)) # count the depth"
   ]
  }
 ],
 "metadata": {
  "kernelspec": {
   "display_name": "Python 3",
   "language": "python",
   "name": "python3"
  },
  "language_info": {
   "codemirror_mode": {
    "name": "ipython",
    "version": 3
   },
   "file_extension": ".py",
   "mimetype": "text/x-python",
   "name": "python",
   "nbconvert_exporter": "python",
   "pygments_lexer": "ipython3",
   "version": "3.7.3"
  },
  "toc": {
   "base_numbering": 1,
   "nav_menu": {},
   "number_sections": true,
   "sideBar": true,
   "skip_h1_title": false,
   "title_cell": "Table of Contents",
   "title_sidebar": "Contents",
   "toc_cell": false,
   "toc_position": {},
   "toc_section_display": true,
   "toc_window_display": false
  },
  "varInspector": {
   "cols": {
    "lenName": 16,
    "lenType": 16,
    "lenVar": 40
   },
   "kernels_config": {
    "python": {
     "delete_cmd_postfix": "",
     "delete_cmd_prefix": "del ",
     "library": "var_list.py",
     "varRefreshCmd": "print(var_dic_list())"
    },
    "r": {
     "delete_cmd_postfix": ") ",
     "delete_cmd_prefix": "rm(",
     "library": "var_list.r",
     "varRefreshCmd": "cat(var_dic_list()) "
    }
   },
   "types_to_exclude": [
    "module",
    "function",
    "builtin_function_or_method",
    "instance",
    "_Feature"
   ],
   "window_display": false
  }
 },
 "nbformat": 4,
 "nbformat_minor": 2
}
