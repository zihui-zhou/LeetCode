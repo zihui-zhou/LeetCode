{
 "cells": [
  {
   "cell_type": "markdown",
   "metadata": {},
   "source": [
    "Given a binary array, find the maximum length of a contiguous subarray with equal number of 0 and 1.\n",
    "> Example 1 <br>\n",
    "- Input: [0,1]<br>\n",
    "- Output: 2<br>\n",
    "- Explanation: [0, 1] is the longest contiguous subarray with equal number of 0 and 1.<br>\n",
    "\n",
    "> Example 2<br>\n",
    "- Input: [0,1,0]<br>\n",
    "- Output: 2<br>\n",
    "- Explanation: [0, 1] (or [1, 0]) is a longest contiguous subarray with equal number of 0 and 1."
   ]
  },
  {
   "cell_type": "code",
   "execution_count": 1,
   "metadata": {},
   "outputs": [],
   "source": [
    "# chaning 0 to -1\n",
    "# tracking the current sum (from the beginning of the list)\n",
    "# if the current sum is in the table (sum:index pairs)--> the corresponding difference is len(subarray)\n",
    "\n",
    "\n",
    "def findMaxLength(nums):\n",
    "    nums = [-1 if i == 0 else 1 for i in nums]\n",
    "    max_ = 0\n",
    "    dict_ = {0: -1}\n",
    "    sum_ = 0\n",
    "    for i in range(len(nums)):\n",
    "        # Use this function, instead of sum() will increase the computation speed\n",
    "        sum_ += nums[i]\n",
    "        if sum_ in dict_:\n",
    "            max_ = max(max_, i-dict_[sum_])\n",
    "        else:\n",
    "            dict_[sum_] = i\n",
    "    return max_"
   ]
  },
  {
   "cell_type": "code",
   "execution_count": 2,
   "metadata": {},
   "outputs": [],
   "source": [
    "# instead of changing 0 to -1, but track the count\n",
    "def findMaxLength(nums):\n",
    "    \"\"\"\n",
    "    :type nums: List[int]\n",
    "    :rtype: int\n",
    "    \"\"\"\n",
    "    count = 0\n",
    "    max_ = 0\n",
    "    table = {0: 0}\n",
    "    for i, num in enumerate(nums, 1):\n",
    "        if num == 0:\n",
    "            count -= 1\n",
    "        else:\n",
    "            count += 1\n",
    "        print(i, num, count)\n",
    "        if count in table:\n",
    "            max_ = max(max_, i - table[count])\n",
    "        else:\n",
    "            table[count] = i\n",
    "\n",
    "    return max_"
   ]
  },
  {
   "cell_type": "code",
   "execution_count": 3,
   "metadata": {},
   "outputs": [
    {
     "name": "stdout",
     "output_type": "stream",
     "text": [
      "1 0 -1\n",
      "2 1 0\n"
     ]
    },
    {
     "data": {
      "text/plain": [
       "2"
      ]
     },
     "execution_count": 3,
     "metadata": {},
     "output_type": "execute_result"
    }
   ],
   "source": [
    "a = [0, 1]\n",
    "findMaxLength(a)"
   ]
  },
  {
   "cell_type": "code",
   "execution_count": null,
   "metadata": {},
   "outputs": [],
   "source": []
  }
 ],
 "metadata": {
  "kernelspec": {
   "display_name": "Python 3",
   "language": "python",
   "name": "python3"
  },
  "language_info": {
   "codemirror_mode": {
    "name": "ipython",
    "version": 3
   },
   "file_extension": ".py",
   "mimetype": "text/x-python",
   "name": "python",
   "nbconvert_exporter": "python",
   "pygments_lexer": "ipython3",
   "version": "3.7.3"
  },
  "toc": {
   "base_numbering": 1,
   "nav_menu": {},
   "number_sections": true,
   "sideBar": true,
   "skip_h1_title": false,
   "title_cell": "Table of Contents",
   "title_sidebar": "Contents",
   "toc_cell": false,
   "toc_position": {},
   "toc_section_display": true,
   "toc_window_display": false
  },
  "varInspector": {
   "cols": {
    "lenName": 16,
    "lenType": 16,
    "lenVar": 40
   },
   "kernels_config": {
    "python": {
     "delete_cmd_postfix": "",
     "delete_cmd_prefix": "del ",
     "library": "var_list.py",
     "varRefreshCmd": "print(var_dic_list())"
    },
    "r": {
     "delete_cmd_postfix": ") ",
     "delete_cmd_prefix": "rm(",
     "library": "var_list.r",
     "varRefreshCmd": "cat(var_dic_list()) "
    }
   },
   "types_to_exclude": [
    "module",
    "function",
    "builtin_function_or_method",
    "instance",
    "_Feature"
   ],
   "window_display": false
  }
 },
 "nbformat": 4,
 "nbformat_minor": 2
}
