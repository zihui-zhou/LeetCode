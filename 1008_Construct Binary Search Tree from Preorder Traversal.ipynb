{
 "cells": [
  {
   "cell_type": "markdown",
   "metadata": {},
   "source": [
    "Return the root node of a binary search tree that matches the given preorder traversal.\n",
    "\n",
    "(Recall that a binary search tree is a binary tree where for every node, any descendant of node.left has a value < node.val, and any descendant of node.right has a value > node.val.  Also recall that a preorder traversal displays the value of the node first, then traverses node.left, then traverses node.right.)"
   ]
  },
  {
   "cell_type": "markdown",
   "metadata": {},
   "source": [
    "- preorder: root, left, right\n",
    "- inorder: left, root, right (always ascending \n",
    "Therefore, we may use preorder list to find out the root (the first element)"
   ]
  },
  {
   "cell_type": "code",
   "execution_count": null,
   "metadata": {},
   "outputs": [],
   "source": [
    "# Definition for a binary tree node.\n",
    "# class TreeNode(object):\n",
    "#     def __init__(self, x):\n",
    "#         self.val = x\n",
    "#         self.left = None\n",
    "#         self.right = None\n",
    "\n",
    "class Solution(object):\n",
    "    def bstFromPreorder(self, preorder):\n",
    "        \"\"\"\n",
    "        :type preorder: List[int]\n",
    "        :rtype: TreeNode\n",
    "        \"\"\"\n",
    "        if preorder is None:\n",
    "            return TreeNode(None)\n",
    "        inorder = sorted(preorder)\n",
    "        return self.PreIn(preorder, inorder)\n",
    "    \n",
    "    def PreIn(self, preorder, inorder):\n",
    "        lengthpre, lengthin = len(preorder), len(inorder)  \n",
    "        if lengthpre != lengthin or lengthpre==0 or preorder==None or inorder==None:\n",
    "            return None\n",
    "        root = TreeNode(preorder[0])\n",
    "        root_i = inorder.index(root.val)\n",
    "        root.left = self.PreIn(preorder[1:root_i+1], inorder[:root_i])\n",
    "        root.right = self.PreIn(preorder[root_i+1:], inorder[root_i+1:])\n",
    "        return root\n",
    "        "
   ]
  }
 ],
 "metadata": {
  "kernelspec": {
   "display_name": "Python 3",
   "language": "python",
   "name": "python3"
  },
  "language_info": {
   "codemirror_mode": {
    "name": "ipython",
    "version": 3
   },
   "file_extension": ".py",
   "mimetype": "text/x-python",
   "name": "python",
   "nbconvert_exporter": "python",
   "pygments_lexer": "ipython3",
   "version": "3.7.3"
  },
  "toc": {
   "base_numbering": 1,
   "nav_menu": {},
   "number_sections": true,
   "sideBar": true,
   "skip_h1_title": false,
   "title_cell": "Table of Contents",
   "title_sidebar": "Contents",
   "toc_cell": false,
   "toc_position": {},
   "toc_section_display": true,
   "toc_window_display": false
  },
  "varInspector": {
   "cols": {
    "lenName": 16,
    "lenType": 16,
    "lenVar": 40
   },
   "kernels_config": {
    "python": {
     "delete_cmd_postfix": "",
     "delete_cmd_prefix": "del ",
     "library": "var_list.py",
     "varRefreshCmd": "print(var_dic_list())"
    },
    "r": {
     "delete_cmd_postfix": ") ",
     "delete_cmd_prefix": "rm(",
     "library": "var_list.r",
     "varRefreshCmd": "cat(var_dic_list()) "
    }
   },
   "types_to_exclude": [
    "module",
    "function",
    "builtin_function_or_method",
    "instance",
    "_Feature"
   ],
   "window_display": false
  }
 },
 "nbformat": 4,
 "nbformat_minor": 2
}
