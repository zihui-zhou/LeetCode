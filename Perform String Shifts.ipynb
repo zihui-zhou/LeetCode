{
 "cells": [
  {
   "cell_type": "markdown",
   "metadata": {},
   "source": [
    "You are given a string s containing lowercase English letters, and a matrix shift, where shift[i] = [direction, amount]:\n",
    "\n",
    "direction can be 0 (for left shift) or 1 (for right shift). \n",
    "amount is the amount by which string s is to be shifted.\n",
    "A left shift by 1 means remove the first character of s and append it to the end.\n",
    "Similarly, a right shift by 1 means remove the last character of s and add it to the beginning.\n",
    "Return the final string after all operations.\n",
    "\n",
    "> example <br>\n",
    "Input: s = \"abcdefg\", shift = [[1,1],[1,1],[0,2],[1,3]] <br>\n",
    "Output: \"efgabcd\" <br>\n",
    "Explanation:   <br>\n",
    "[1,1] means shift to right by 1. \"abcdefg\" -> \"gabcdef\" <br>\n",
    "[1,1] means shift to right by 1. \"gabcdef\" -> \"fgabcde\" <br>\n",
    "[0,2] means shift to left by 2. \"fgabcde\" -> \"abcdefg\" <br>\n",
    "[1,3] means shift to right by 3. \"abcdefg\" -> \"efgabcd\" "
   ]
  },
  {
   "cell_type": "code",
   "execution_count": 1,
   "metadata": {},
   "outputs": [],
   "source": [
    "# instead of rotate the string each time, calculate the shift first\n",
    "# base case: len(string)==0\n",
    "# rotation > len(s) -- using modulo\n",
    "# check after modulo\n",
    "    # ==0: remain the same\n",
    "    # dict_[0] > dict_[1]: rotate left\n",
    "    # else: rotate right\n",
    "\n",
    "\n",
    "def stringShift(s, shift):\n",
    "    \"\"\"\n",
    "    :type s: str\n",
    "    :type shift: List[List[int]]\n",
    "    :rtype: str\n",
    "    \"\"\"\n",
    "    if s == '':\n",
    "        return ''\n",
    "    dict_ = {0: 0, 1: 0}\n",
    "    for l in shift:\n",
    "        direction = l[0]\n",
    "        amount = l[1]\n",
    "        if direction == 0:\n",
    "            dict_[0] += amount\n",
    "        else:\n",
    "            dict_[1] += amount\n",
    "\n",
    "    if (dict_[0] - dict_[1]) % len(s) == 0:\n",
    "        return s\n",
    "    elif dict_[0] < dict_[1]:\n",
    "        shift_amount = (dict_[1]-dict_[0]) % len(s)  # more than the len\n",
    "        return s[-shift_amount:]+s[:len(s)-shift_amount], shift_amount\n",
    "    else:\n",
    "        shift_amount = (dict_[0]-dict_[1]) % len(s)\n",
    "        return s[shift_amount-len(s):]+s[:shift_amount]"
   ]
  },
  {
   "cell_type": "code",
   "execution_count": 2,
   "metadata": {},
   "outputs": [
    {
     "data": {
      "text/plain": [
       "('efgabcd', 3)"
      ]
     },
     "execution_count": 2,
     "metadata": {},
     "output_type": "execute_result"
    }
   ],
   "source": [
    "s = \"abcdefg\" \n",
    "shift = [[1,1],[1,1],[0,2],[1,3]] \n",
    "stringShift(s,shift)"
   ]
  },
  {
   "cell_type": "code",
   "execution_count": 3,
   "metadata": {},
   "outputs": [
    {
     "data": {
      "text/plain": [
       "('cab', 1)"
      ]
     },
     "execution_count": 3,
     "metadata": {},
     "output_type": "execute_result"
    }
   ],
   "source": [
    "s = \"abc\"\n",
    "shift = [[0,1],[1,2]]\n",
    "stringShift(s,shift)"
   ]
  },
  {
   "cell_type": "code",
   "execution_count": 4,
   "metadata": {},
   "outputs": [
    {
     "data": {
      "text/plain": [
       "'hcjwpdh'"
      ]
     },
     "execution_count": 4,
     "metadata": {},
     "output_type": "execute_result"
    }
   ],
   "source": [
    "s = \"wpdhhcj\"\n",
    "shift = [[0,7],[1,7],[1,0],[1,3],[0,3],[0,6],[1,2]]\n",
    "stringShift(s,shift)"
   ]
  },
  {
   "cell_type": "code",
   "execution_count": 5,
   "metadata": {},
   "outputs": [
    {
     "data": {
      "text/plain": [
       "'qpifxqgwki'"
      ]
     },
     "execution_count": 5,
     "metadata": {},
     "output_type": "execute_result"
    }
   ],
   "source": [
    "s = \"xqgwkiqpif\"\n",
    "shift = [[1,4],[0,7],[0,8],[0,7],[0,6],[1,3],[0,1],[1,7],[0,5],[0,6]]\n",
    "stringShift(s,shift)"
   ]
  },
  {
   "cell_type": "code",
   "execution_count": 6,
   "metadata": {},
   "outputs": [
    {
     "data": {
      "text/plain": [
       "'joiazl'"
      ]
     },
     "execution_count": 6,
     "metadata": {},
     "output_type": "execute_result"
    }
   ],
   "source": [
    "s = \"joiazl\"\n",
    "shift = [[1,1],[1,6],[0,1],[1,3],[1,0],[0,3]]\n",
    "stringShift(s,shift)"
   ]
  },
  {
   "cell_type": "code",
   "execution_count": 7,
   "metadata": {},
   "outputs": [
    {
     "data": {
      "text/plain": [
       "(4, 10)"
      ]
     },
     "execution_count": 7,
     "metadata": {},
     "output_type": "execute_result"
    }
   ],
   "source": [
    "sum([i[1] for i in shift if i[0]==0]),sum([i[1] for i in shift if i[0]==1])"
   ]
  }
 ],
 "metadata": {
  "kernelspec": {
   "display_name": "Python 3",
   "language": "python",
   "name": "python3"
  },
  "language_info": {
   "codemirror_mode": {
    "name": "ipython",
    "version": 3
   },
   "file_extension": ".py",
   "mimetype": "text/x-python",
   "name": "python",
   "nbconvert_exporter": "python",
   "pygments_lexer": "ipython3",
   "version": "3.7.3"
  },
  "toc": {
   "base_numbering": 1,
   "nav_menu": {},
   "number_sections": true,
   "sideBar": true,
   "skip_h1_title": false,
   "title_cell": "Table of Contents",
   "title_sidebar": "Contents",
   "toc_cell": false,
   "toc_position": {},
   "toc_section_display": true,
   "toc_window_display": false
  },
  "varInspector": {
   "cols": {
    "lenName": 16,
    "lenType": 16,
    "lenVar": 40
   },
   "kernels_config": {
    "python": {
     "delete_cmd_postfix": "",
     "delete_cmd_prefix": "del ",
     "library": "var_list.py",
     "varRefreshCmd": "print(var_dic_list())"
    },
    "r": {
     "delete_cmd_postfix": ") ",
     "delete_cmd_prefix": "rm(",
     "library": "var_list.r",
     "varRefreshCmd": "cat(var_dic_list()) "
    }
   },
   "types_to_exclude": [
    "module",
    "function",
    "builtin_function_or_method",
    "instance",
    "_Feature"
   ],
   "window_display": false
  }
 },
 "nbformat": 4,
 "nbformat_minor": 2
}
