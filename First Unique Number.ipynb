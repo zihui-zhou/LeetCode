{
 "cells": [
  {
   "cell_type": "markdown",
   "metadata": {},
   "source": [
    "You have a queue of integers, you need to retrieve the first unique integer in the queue.\n",
    "\n",
    "Implement the FirstUnique class:\n",
    "\n",
    "- FirstUnique(int[] nums) Initializes the object with the numbers in the queue.\n",
    "- int showFirstUnique() returns the value of the first unique integer of the queue, and returns -1 if there is no such integer.\n",
    "- void add(int value) insert value to the queue."
   ]
  },
  {
   "cell_type": "code",
   "execution_count": 21,
   "metadata": {},
   "outputs": [],
   "source": [
    "# Using two data structures: list & dictionary to track the progress\n",
    "# list - keep the unique values in sequence\n",
    "# dictionary - track how many time the value appears\n",
    "# showFirstUnique: remove the first element in the list until fulfilling the requirements\n",
    "\n",
    "\n",
    "class FirstUnique(object):\n",
    "\n",
    "    def __init__(self, nums):\n",
    "        \"\"\"\n",
    "        :type nums: List[int]\n",
    "        \"\"\"\n",
    "        self.list = []\n",
    "        self.dict_ = {}\n",
    "        for i in nums:\n",
    "            self.add(i)\n",
    "\n",
    "    def showFirstUnique(self):\n",
    "        \"\"\"\n",
    "        :rtype: int\n",
    "        \"\"\"\n",
    "        while len(self.list) > 0 and self.dict_[self.list[0]] > 1:\n",
    "            self.list.pop(0)\n",
    "        if len(self.list) == 0:\n",
    "            return -1\n",
    "        else:\n",
    "            return self.list[0]\n",
    "        \n",
    "\n",
    "    def add(self, value):\n",
    "        \"\"\"\n",
    "        :type value: int\n",
    "        :rtype: None\n",
    "        \"\"\"      \n",
    "        if value in self.dict_:\n",
    "            self.dict_[value] += 1\n",
    "        else:\n",
    "            self.dict_[value] = 1\n",
    "            self.list.append(value)\n",
    "        \n",
    "\n",
    "\n",
    "# Your FirstUnique object will be instantiated and called as such:\n",
    "# obj = FirstUnique(nums)\n",
    "# param_1 = obj.showFirstUnique()\n",
    "# obj.add(value)"
   ]
  },
  {
   "cell_type": "code",
   "execution_count": null,
   "metadata": {},
   "outputs": [],
   "source": []
  }
 ],
 "metadata": {
  "kernelspec": {
   "display_name": "Python 3",
   "language": "python",
   "name": "python3"
  },
  "language_info": {
   "codemirror_mode": {
    "name": "ipython",
    "version": 3
   },
   "file_extension": ".py",
   "mimetype": "text/x-python",
   "name": "python",
   "nbconvert_exporter": "python",
   "pygments_lexer": "ipython3",
   "version": "3.7.3"
  },
  "toc": {
   "base_numbering": 1,
   "nav_menu": {},
   "number_sections": true,
   "sideBar": true,
   "skip_h1_title": false,
   "title_cell": "Table of Contents",
   "title_sidebar": "Contents",
   "toc_cell": false,
   "toc_position": {},
   "toc_section_display": true,
   "toc_window_display": false
  },
  "varInspector": {
   "cols": {
    "lenName": 16,
    "lenType": 16,
    "lenVar": 40
   },
   "kernels_config": {
    "python": {
     "delete_cmd_postfix": "",
     "delete_cmd_prefix": "del ",
     "library": "var_list.py",
     "varRefreshCmd": "print(var_dic_list())"
    },
    "r": {
     "delete_cmd_postfix": ") ",
     "delete_cmd_prefix": "rm(",
     "library": "var_list.r",
     "varRefreshCmd": "cat(var_dic_list()) "
    }
   },
   "types_to_exclude": [
    "module",
    "function",
    "builtin_function_or_method",
    "instance",
    "_Feature"
   ],
   "window_display": false
  }
 },
 "nbformat": 4,
 "nbformat_minor": 2
}
