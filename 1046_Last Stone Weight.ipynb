{
 "cells": [
  {
   "cell_type": "markdown",
   "metadata": {},
   "source": [
    "- We have a collection of stones, each stone has a positive integer weight.\n",
    "\n",
    "- Each turn, we choose the two heaviest stones and smash them together.  Suppose the stones have weights x and y with x <= y.  The result of this smash is:\n",
    "    - If x == y, both stones are totally destroyed;\n",
    "    - If x != y, the stone of weight x is totally destroyed, and the stone of weight y has new weight y-x.\n",
    "    \n",
    "- At the end, there is at most 1 stone left.  Return the weight of this stone (or 0 if there are no stones left.)"
   ]
  },
  {
   "cell_type": "markdown",
   "metadata": {},
   "source": [
    "> **example** <br>\n",
    "- Input: [2,7,4,1,8,1]<br>\n",
    "- Output: 1<br>\n",
    "- Explanation: <br>\n",
    "We combine 7 and 8 to get 1 so the array converts to [2,4,1,1,1] then,<br>\n",
    "we combine 2 and 4 to get 2 so the array converts to [2,1,1,1] then,<br>\n",
    "we combine 2 and 1 to get 1 so the array converts to [1,1,1] then,<br>\n",
    "we combine 1 and 1 to get 0 so the array converts to [1] then that's the value of last stone."
   ]
  },
  {
   "cell_type": "code",
   "execution_count": 18,
   "metadata": {},
   "outputs": [],
   "source": [
    "# Assessment\n",
    "# Runtime: 16 ms, faster than 85.56% of Python online submissions.\n",
    "# Memory Usage: 12.9 MB, less than 100.00% of Python online submissions.\n",
    "\n",
    "def lastStoneWeight(stones):\n",
    "    \"\"\"\n",
    "    :type stones: List[int]\n",
    "    :rtype: int\n",
    "    \"\"\"\n",
    "    while len(stones) > 1: \n",
    "        stones.sort()\n",
    "        last = stones[-1]\n",
    "        sec_last = stones[-2]        \n",
    "        stones.pop() # everytime pop the last one\n",
    "        stones.pop() \n",
    "        if last > sec_last:\n",
    "            stones.append(last-sec_last)\n",
    "            stones.sort()\n",
    "        else:\n",
    "            continue\n",
    "    if len(stones) == 0:\n",
    "        return 0\n",
    "    else:\n",
    "        return stones[0]"
   ]
  },
  {
   "cell_type": "code",
   "execution_count": 19,
   "metadata": {},
   "outputs": [
    {
     "name": "stdout",
     "output_type": "stream",
     "text": [
      "[1, 1, 2, 4] 7 8\n",
      "[1, 1, 1] 2 4\n",
      "[1, 1] 1 2\n",
      "[1] 1 1\n"
     ]
    },
    {
     "data": {
      "text/plain": [
       "1"
      ]
     },
     "execution_count": 19,
     "metadata": {},
     "output_type": "execute_result"
    }
   ],
   "source": [
    "a = [2,7,4,1,8,1]\n",
    "lastStoneWeight(a)"
   ]
  },
  {
   "cell_type": "code",
   "execution_count": 23,
   "metadata": {},
   "outputs": [],
   "source": [
    "# Using recursion\n",
    "def lastStoneWeight(stones):\n",
    "    if len(stones) == 1: \n",
    "        return stones[0]\n",
    "    stones.sort()\n",
    "    return lastStoneWeight([stones.pop() - stones.pop()] + stones)"
   ]
  },
  {
   "cell_type": "code",
   "execution_count": null,
   "metadata": {},
   "outputs": [],
   "source": []
  }
 ],
 "metadata": {
  "kernelspec": {
   "display_name": "Python 3",
   "language": "python",
   "name": "python3"
  },
  "language_info": {
   "codemirror_mode": {
    "name": "ipython",
    "version": 3
   },
   "file_extension": ".py",
   "mimetype": "text/x-python",
   "name": "python",
   "nbconvert_exporter": "python",
   "pygments_lexer": "ipython3",
   "version": "3.7.3"
  },
  "toc": {
   "base_numbering": 1,
   "nav_menu": {},
   "number_sections": true,
   "sideBar": true,
   "skip_h1_title": false,
   "title_cell": "Table of Contents",
   "title_sidebar": "Contents",
   "toc_cell": false,
   "toc_position": {},
   "toc_section_display": true,
   "toc_window_display": false
  },
  "varInspector": {
   "cols": {
    "lenName": 16,
    "lenType": 16,
    "lenVar": 40
   },
   "kernels_config": {
    "python": {
     "delete_cmd_postfix": "",
     "delete_cmd_prefix": "del ",
     "library": "var_list.py",
     "varRefreshCmd": "print(var_dic_list())"
    },
    "r": {
     "delete_cmd_postfix": ") ",
     "delete_cmd_prefix": "rm(",
     "library": "var_list.r",
     "varRefreshCmd": "cat(var_dic_list()) "
    }
   },
   "types_to_exclude": [
    "module",
    "function",
    "builtin_function_or_method",
    "instance",
    "_Feature"
   ],
   "window_display": false
  }
 },
 "nbformat": 4,
 "nbformat_minor": 2
}
