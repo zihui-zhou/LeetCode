{
 "cells": [
  {
   "cell_type": "markdown",
   "metadata": {},
   "source": [
    "(This problem is an interactive problem.)\n",
    "\n",
    "A binary matrix means that all elements are 0 or 1. For each individual row of the matrix, this row is sorted in non-decreasing order.\n",
    "\n",
    "Given a row-sorted binary matrix binaryMatrix, return leftmost column index(0-indexed) with at least a 1 in it. If such index doesn't exist, return -1.\n",
    "\n",
    "You can't access the Binary Matrix directly.  You may only access the matrix using a BinaryMatrix interface:\n",
    "\n",
    "BinaryMatrix.get(x, y) returns the element of the matrix at index (x, y) (0-indexed).\n",
    "BinaryMatrix.dimensions() returns a list of 2 elements [n, m], which means the matrix is n * m.\n",
    "Submissions making more than 1000 calls to BinaryMatrix.get will be judged Wrong Answer.  Also, any solutions that attempt to circumvent the judge will result in disqualification.\n",
    "\n",
    "For custom testing purposes you're given the binary matrix mat as input in the following four examples. You will not have access the binary matrix directly."
   ]
  },
  {
   "cell_type": "code",
   "execution_count": 1,
   "metadata": {},
   "outputs": [
    {
     "data": {
      "text/plain": [
       "array([[1, 1, 1, 1, 1],\n",
       "       [0, 0, 0, 1, 1],\n",
       "       [0, 0, 1, 1, 1],\n",
       "       [0, 0, 0, 0, 1],\n",
       "       [0, 0, 0, 0, 0]])"
      ]
     },
     "execution_count": 1,
     "metadata": {},
     "output_type": "execute_result"
    }
   ],
   "source": [
    "# Using Leetcode's implementation\n",
    "# ~15min\n",
    "\n",
    "\n",
    "# \"\"\"\n",
    "# This is BinaryMatrix's API interface.\n",
    "# You should not implement it, or speculate about its implementation\n",
    "# \"\"\"\n",
    "#class BinaryMatrix(object):\n",
    "#    def get(self, x, y):\n",
    "#        \"\"\"\n",
    "#        :type x : int, y : int\n",
    "#        :rtype int\n",
    "#        \"\"\"\n",
    "#\n",
    "#    def dimensions:\n",
    "#        \"\"\"\n",
    "#        :rtype list[]\n",
    "#        \"\"\"\n",
    "\n",
    "class Solution(object):\n",
    "    def leftMostColumnWithOne(self, binaryMatrix):\n",
    "        \"\"\"\n",
    "        :type binaryMatrix: BinaryMatrix\n",
    "        :rtype: int\n",
    "        \"\"\"\n",
    "        row,col = binaryMatrix.dimensions()\n",
    "        ind = col\n",
    "        for i in range(row):\n",
    "            first, last = 0, col-1\n",
    "            while first <= last:\n",
    "                mid_i = (first+last)//2\n",
    "                mid = binaryMatrix.get(i,mid_i)\n",
    "                if mid == 1:\n",
    "                    ind = min(ind,mid_i)\n",
    "                    last = mid_i-1\n",
    "                else:\n",
    "                    first = mid_i+1\n",
    "        if ind<col:\n",
    "            return ind\n",
    "        else:\n",
    "            return -1"
   ]
  },
  {
   "cell_type": "code",
   "execution_count": null,
   "metadata": {},
   "outputs": [],
   "source": []
  }
 ],
 "metadata": {
  "kernelspec": {
   "display_name": "Python 3",
   "language": "python",
   "name": "python3"
  },
  "language_info": {
   "codemirror_mode": {
    "name": "ipython",
    "version": 3
   },
   "file_extension": ".py",
   "mimetype": "text/x-python",
   "name": "python",
   "nbconvert_exporter": "python",
   "pygments_lexer": "ipython3",
   "version": "3.7.3"
  },
  "toc": {
   "base_numbering": 1,
   "nav_menu": {},
   "number_sections": true,
   "sideBar": true,
   "skip_h1_title": false,
   "title_cell": "Table of Contents",
   "title_sidebar": "Contents",
   "toc_cell": false,
   "toc_position": {},
   "toc_section_display": true,
   "toc_window_display": false
  },
  "varInspector": {
   "cols": {
    "lenName": 16,
    "lenType": 16,
    "lenVar": 40
   },
   "kernels_config": {
    "python": {
     "delete_cmd_postfix": "",
     "delete_cmd_prefix": "del ",
     "library": "var_list.py",
     "varRefreshCmd": "print(var_dic_list())"
    },
    "r": {
     "delete_cmd_postfix": ") ",
     "delete_cmd_prefix": "rm(",
     "library": "var_list.r",
     "varRefreshCmd": "cat(var_dic_list()) "
    }
   },
   "types_to_exclude": [
    "module",
    "function",
    "builtin_function_or_method",
    "instance",
    "_Feature"
   ],
   "window_display": false
  }
 },
 "nbformat": 4,
 "nbformat_minor": 2
}
