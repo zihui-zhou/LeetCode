{
 "cells": [
  {
   "cell_type": "markdown",
   "metadata": {},
   "source": [
    "Given a string containing only three types of characters: '(', ')' and '*', write a function to check whether this string is valid. We define the validity of a string by these rules:\n",
    "\n",
    "- Any left parenthesis '(' must have a corresponding right parenthesis ')'.\n",
    "- Any right parenthesis ')' must have a corresponding left parenthesis '('.\n",
    "- Left parenthesis '(' must go before the corresponding right parenthesis ')'.\n",
    "- '*' could be treated as a single right parenthesis ')' or a single left parenthesis '(' or an empty string.\n",
    "- An empty string is also valid."
   ]
  },
  {
   "cell_type": "code",
   "execution_count": 1,
   "metadata": {},
   "outputs": [],
   "source": [
    "# Reference from Leetcode\n",
    "# for every passing letter from s, we assess how many corresponding ')' should exist\n",
    "# using [cmin, cmax] as the range\n",
    "    # if letter = '(', increase both cmin and cmax by 1\n",
    "    # if letter = ')', decrease both cmin and cmax by 1 **ensure cmin bounded below by 0**\n",
    "    # if letter = '*': range [cmin-1, cmax+1] **ensure cmin bounded below by 0**\n",
    "        # if interpreted as (: cmin+1, cmax+1\n",
    "        # if interpreted as ): cmin-1, cmax-1\n",
    "        # if interpreted as '': cmin, cmax stay the same\n",
    "# Requirements\n",
    "    # cmin == 0 at last\n",
    "    # cmax always greater that 0 (otherwise, ')' comes before paired '(')\n",
    "\n",
    "def checkValidString(s):\n",
    "    \"\"\"\n",
    "    :type s: str\n",
    "    :rtype: bool\n",
    "    \"\"\"\n",
    "    cmin = cmax = 0\n",
    "    for i in s:\n",
    "        if i == '(':\n",
    "            cmax += 1\n",
    "            cmin += 1\n",
    "        if i == ')':\n",
    "            cmax -= 1\n",
    "            cmin = max(cmin-1, 0) # paired\n",
    "        if i == '*':\n",
    "            cmax += 1\n",
    "            cmin = max(cmin-1, 0) # * can be paired with existed '(' or empty string\n",
    "        if cmax < 0:\n",
    "            return False\n",
    "        print(i,cmin,cmax)\n",
    "    return cmin == 0 "
   ]
  },
  {
   "cell_type": "code",
   "execution_count": 2,
   "metadata": {},
   "outputs": [
    {
     "name": "stdout",
     "output_type": "stream",
     "text": [
      "( 1 1\n",
      ") 0 0\n"
     ]
    },
    {
     "data": {
      "text/plain": [
       "True"
      ]
     },
     "execution_count": 2,
     "metadata": {},
     "output_type": "execute_result"
    }
   ],
   "source": [
    "s = '()'\n",
    "checkValidString(s)"
   ]
  },
  {
   "cell_type": "code",
   "execution_count": null,
   "metadata": {},
   "outputs": [],
   "source": []
  }
 ],
 "metadata": {
  "kernelspec": {
   "display_name": "Python 3",
   "language": "python",
   "name": "python3"
  },
  "language_info": {
   "codemirror_mode": {
    "name": "ipython",
    "version": 3
   },
   "file_extension": ".py",
   "mimetype": "text/x-python",
   "name": "python",
   "nbconvert_exporter": "python",
   "pygments_lexer": "ipython3",
   "version": "3.7.3"
  },
  "toc": {
   "base_numbering": 1,
   "nav_menu": {},
   "number_sections": true,
   "sideBar": true,
   "skip_h1_title": false,
   "title_cell": "Table of Contents",
   "title_sidebar": "Contents",
   "toc_cell": false,
   "toc_position": {},
   "toc_section_display": true,
   "toc_window_display": false
  },
  "varInspector": {
   "cols": {
    "lenName": 16,
    "lenType": 16,
    "lenVar": 40
   },
   "kernels_config": {
    "python": {
     "delete_cmd_postfix": "",
     "delete_cmd_prefix": "del ",
     "library": "var_list.py",
     "varRefreshCmd": "print(var_dic_list())"
    },
    "r": {
     "delete_cmd_postfix": ") ",
     "delete_cmd_prefix": "rm(",
     "library": "var_list.r",
     "varRefreshCmd": "cat(var_dic_list()) "
    }
   },
   "types_to_exclude": [
    "module",
    "function",
    "builtin_function_or_method",
    "instance",
    "_Feature"
   ],
   "window_display": false
  }
 },
 "nbformat": 4,
 "nbformat_minor": 2
}
